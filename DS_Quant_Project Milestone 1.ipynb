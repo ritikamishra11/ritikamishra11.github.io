{
  "nbformat": 4,
  "nbformat_minor": 0,
  "metadata": {
    "colab": {
      "provenance": []
    },
    "kernelspec": {
      "name": "python3",
      "display_name": "Python 3"
    },
    "language_info": {
      "name": "python"
    }
  },
  "cells": [
    {
      "cell_type": "code",
      "execution_count": null,
      "metadata": {
        "colab": {
          "base_uri": "https://localhost:8080/",
          "height": 76
        },
        "outputId": "db34b050-6a7d-4656-f792-f297720f51b0",
        "id": "VPT6yOO0sAk3"
      },
      "outputs": [
        {
          "output_type": "display_data",
          "data": {
            "text/plain": [
              "<IPython.core.display.HTML object>"
            ],
            "text/html": [
              "\n",
              "     <input type=\"file\" id=\"files-17a95d41-2b56-41d0-91e4-9bb1ec694ac2\" name=\"files[]\" multiple disabled\n",
              "        style=\"border:none\" />\n",
              "     <output id=\"result-17a95d41-2b56-41d0-91e4-9bb1ec694ac2\">\n",
              "      Upload widget is only available when the cell has been executed in the\n",
              "      current browser session. Please rerun this cell to enable.\n",
              "      </output>\n",
              "      <script>// Copyright 2017 Google LLC\n",
              "//\n",
              "// Licensed under the Apache License, Version 2.0 (the \"License\");\n",
              "// you may not use this file except in compliance with the License.\n",
              "// You may obtain a copy of the License at\n",
              "//\n",
              "//      http://www.apache.org/licenses/LICENSE-2.0\n",
              "//\n",
              "// Unless required by applicable law or agreed to in writing, software\n",
              "// distributed under the License is distributed on an \"AS IS\" BASIS,\n",
              "// WITHOUT WARRANTIES OR CONDITIONS OF ANY KIND, either express or implied.\n",
              "// See the License for the specific language governing permissions and\n",
              "// limitations under the License.\n",
              "\n",
              "/**\n",
              " * @fileoverview Helpers for google.colab Python module.\n",
              " */\n",
              "(function(scope) {\n",
              "function span(text, styleAttributes = {}) {\n",
              "  const element = document.createElement('span');\n",
              "  element.textContent = text;\n",
              "  for (const key of Object.keys(styleAttributes)) {\n",
              "    element.style[key] = styleAttributes[key];\n",
              "  }\n",
              "  return element;\n",
              "}\n",
              "\n",
              "// Max number of bytes which will be uploaded at a time.\n",
              "const MAX_PAYLOAD_SIZE = 100 * 1024;\n",
              "\n",
              "function _uploadFiles(inputId, outputId) {\n",
              "  const steps = uploadFilesStep(inputId, outputId);\n",
              "  const outputElement = document.getElementById(outputId);\n",
              "  // Cache steps on the outputElement to make it available for the next call\n",
              "  // to uploadFilesContinue from Python.\n",
              "  outputElement.steps = steps;\n",
              "\n",
              "  return _uploadFilesContinue(outputId);\n",
              "}\n",
              "\n",
              "// This is roughly an async generator (not supported in the browser yet),\n",
              "// where there are multiple asynchronous steps and the Python side is going\n",
              "// to poll for completion of each step.\n",
              "// This uses a Promise to block the python side on completion of each step,\n",
              "// then passes the result of the previous step as the input to the next step.\n",
              "function _uploadFilesContinue(outputId) {\n",
              "  const outputElement = document.getElementById(outputId);\n",
              "  const steps = outputElement.steps;\n",
              "\n",
              "  const next = steps.next(outputElement.lastPromiseValue);\n",
              "  return Promise.resolve(next.value.promise).then((value) => {\n",
              "    // Cache the last promise value to make it available to the next\n",
              "    // step of the generator.\n",
              "    outputElement.lastPromiseValue = value;\n",
              "    return next.value.response;\n",
              "  });\n",
              "}\n",
              "\n",
              "/**\n",
              " * Generator function which is called between each async step of the upload\n",
              " * process.\n",
              " * @param {string} inputId Element ID of the input file picker element.\n",
              " * @param {string} outputId Element ID of the output display.\n",
              " * @return {!Iterable<!Object>} Iterable of next steps.\n",
              " */\n",
              "function* uploadFilesStep(inputId, outputId) {\n",
              "  const inputElement = document.getElementById(inputId);\n",
              "  inputElement.disabled = false;\n",
              "\n",
              "  const outputElement = document.getElementById(outputId);\n",
              "  outputElement.innerHTML = '';\n",
              "\n",
              "  const pickedPromise = new Promise((resolve) => {\n",
              "    inputElement.addEventListener('change', (e) => {\n",
              "      resolve(e.target.files);\n",
              "    });\n",
              "  });\n",
              "\n",
              "  const cancel = document.createElement('button');\n",
              "  inputElement.parentElement.appendChild(cancel);\n",
              "  cancel.textContent = 'Cancel upload';\n",
              "  const cancelPromise = new Promise((resolve) => {\n",
              "    cancel.onclick = () => {\n",
              "      resolve(null);\n",
              "    };\n",
              "  });\n",
              "\n",
              "  // Wait for the user to pick the files.\n",
              "  const files = yield {\n",
              "    promise: Promise.race([pickedPromise, cancelPromise]),\n",
              "    response: {\n",
              "      action: 'starting',\n",
              "    }\n",
              "  };\n",
              "\n",
              "  cancel.remove();\n",
              "\n",
              "  // Disable the input element since further picks are not allowed.\n",
              "  inputElement.disabled = true;\n",
              "\n",
              "  if (!files) {\n",
              "    return {\n",
              "      response: {\n",
              "        action: 'complete',\n",
              "      }\n",
              "    };\n",
              "  }\n",
              "\n",
              "  for (const file of files) {\n",
              "    const li = document.createElement('li');\n",
              "    li.append(span(file.name, {fontWeight: 'bold'}));\n",
              "    li.append(span(\n",
              "        `(${file.type || 'n/a'}) - ${file.size} bytes, ` +\n",
              "        `last modified: ${\n",
              "            file.lastModifiedDate ? file.lastModifiedDate.toLocaleDateString() :\n",
              "                                    'n/a'} - `));\n",
              "    const percent = span('0% done');\n",
              "    li.appendChild(percent);\n",
              "\n",
              "    outputElement.appendChild(li);\n",
              "\n",
              "    const fileDataPromise = new Promise((resolve) => {\n",
              "      const reader = new FileReader();\n",
              "      reader.onload = (e) => {\n",
              "        resolve(e.target.result);\n",
              "      };\n",
              "      reader.readAsArrayBuffer(file);\n",
              "    });\n",
              "    // Wait for the data to be ready.\n",
              "    let fileData = yield {\n",
              "      promise: fileDataPromise,\n",
              "      response: {\n",
              "        action: 'continue',\n",
              "      }\n",
              "    };\n",
              "\n",
              "    // Use a chunked sending to avoid message size limits. See b/62115660.\n",
              "    let position = 0;\n",
              "    do {\n",
              "      const length = Math.min(fileData.byteLength - position, MAX_PAYLOAD_SIZE);\n",
              "      const chunk = new Uint8Array(fileData, position, length);\n",
              "      position += length;\n",
              "\n",
              "      const base64 = btoa(String.fromCharCode.apply(null, chunk));\n",
              "      yield {\n",
              "        response: {\n",
              "          action: 'append',\n",
              "          file: file.name,\n",
              "          data: base64,\n",
              "        },\n",
              "      };\n",
              "\n",
              "      let percentDone = fileData.byteLength === 0 ?\n",
              "          100 :\n",
              "          Math.round((position / fileData.byteLength) * 100);\n",
              "      percent.textContent = `${percentDone}% done`;\n",
              "\n",
              "    } while (position < fileData.byteLength);\n",
              "  }\n",
              "\n",
              "  // All done.\n",
              "  yield {\n",
              "    response: {\n",
              "      action: 'complete',\n",
              "    }\n",
              "  };\n",
              "}\n",
              "\n",
              "scope.google = scope.google || {};\n",
              "scope.google.colab = scope.google.colab || {};\n",
              "scope.google.colab._files = {\n",
              "  _uploadFiles,\n",
              "  _uploadFilesContinue,\n",
              "};\n",
              "})(self);\n",
              "</script> "
            ]
          },
          "metadata": {}
        },
        {
          "output_type": "stream",
          "name": "stdout",
          "text": [
            "Saving AAPL.csv to AAPL (3).csv\n"
          ]
        }
      ],
      "source": [
        "from google.colab import files\n",
        "uploaded = files.upload()"
      ]
    },
    {
      "cell_type": "code",
      "source": [
        "import pandas as pd\n",
        "\n",
        "# Load the CSV file\n",
        "file_path = 'AAPL.csv'\n",
        "data = pd.read_csv(file_path)\n",
        "print(data.columns)\n",
        "\n",
        "# Calculate daily returns\n",
        "data['Daily Return'] = data['Adjusted Price'].pct_change()\n",
        "\n",
        "# Drop NaN values from 'Daily Return'\n",
        "data_cleaned = data.dropna(subset=['Daily Return'])\n",
        "\n",
        "# Calculate the annualized mean return and the annualized volatility (standard deviation)\n",
        "mean_daily_return = data_cleaned['Daily Return'].mean()\n",
        "annualized_return = mean_daily_return * 252  # 252 trading days in a year\n",
        "std_daily_return = data_cleaned['Daily Return'].std()\n",
        "annualized_volatility = std_daily_return * np.sqrt(252)\n",
        "\n",
        "print(f\"Annualized Mean Return: {annualized_return}\")\n",
        "print(f\"Annualized Volatility: {annualized_volatility}\")"
      ],
      "metadata": {
        "colab": {
          "base_uri": "https://localhost:8080/"
        },
        "id": "VPwK8fgP3nfI",
        "outputId": "a2609f9b-62a6-4103-b427-1f9589778fcd"
      },
      "execution_count": null,
      "outputs": [
        {
          "output_type": "stream",
          "name": "stdout",
          "text": [
            "Index(['Date', 'Adjusted Price', 'Open', 'Low', 'High', 'Volume'], dtype='object')\n",
            "Annualized Mean Return: 0.2778283503745821\n",
            "Annualized Volatility: 0.42291299754761136\n"
          ]
        }
      ]
    },
    {
      "cell_type": "markdown",
      "source": [
        "Collaboration plan：Our collaboration plan is to meet twice a week to set goals and divide the work. So far we have been meeting once in the beginning of the week to split up the responsibilities we are each going to do, and then meeting in person later in the week to work through challenges together. We are using jupiter notebooks, r-studio, and vs code to work on this project."
      ],
      "metadata": {
        "id": "gjjofp0gpaqR"
      }
    }
  ]
import pandas as pd
import numpy as np

# Function to calculate and display summary statistics
def summary_statistics(data):
    # Ensure 'Adjusted Price' exists in the DataFrame
    if 'Adjusted Price' not in data.columns:
        raise KeyError("'Adjusted Price' column is missing in the data.")
    
    # Calculate daily return if not already calculated
    if 'Daily Return' not in data.columns:
        data['Daily Return'] = data['Adjusted Price'].pct_change()
    
    # Drop NaN values from 'Daily Return'
    data_cleaned = data.dropna(subset=['Daily Return'])
    
    # Calculate summary statistics
    summary_stats = {
        "Mean Price": data['Adjusted Price'].mean(),
        "Median Price": data['Adjusted Price'].median(),
        "Price Standard Deviation": data['Adjusted Price'].std(),
        "Minimum Price": data['Adjusted Price'].min(),
        "Maximum Price": data['Adjusted Price'].max(),
        "Annualized Return": data_cleaned['Daily Return'].mean() * 252,  # 252 trading days
        "Annualized Volatility": data_cleaned['Daily Return'].std() * np.sqrt(252),
        "Skewness": data_cleaned['Daily Return'].skew(),
        "Kurtosis": data_cleaned['Daily Return'].kurtosis(),
        "Max Drawdown": max_drawdown(data['Adjusted Price'])
    }
    
    return summary_stats

# Function to calculate the maximum drawdown (peak-to-trough decline)
def max_drawdown(prices):
    # Calculate the running maximum price
    running_max = prices.cummax()
    # Calculate the percentage drawdown at each point
    drawdown = (prices - running_max) / running_max
    # Return the largest drawdown
    return drawdown.min()

# Call the function and print summary statistics
stats = summary_statistics(data)
for stat, value in stats.items():
    print(f"{stat}: {value}")



Small Multiples for the Data:
import matplotlib.pyplot as plt

# Assume df contains the stock data with 'Date' and 'Adjusted Price' columns
# Convert the 'Date' column to datetime for easy filtering by year
data['Date'] = pd.to_datetime(data['Date'])

# Extract the unique years from the 'Date' column
years = data['Date'].dt.year.unique()

# Create a 1x5 grid for visualizing the adjusted price over 5 different years
fig, axes = plt.subplots(1, len(years), figsize=(14, 4), sharey=True)

# Loop over each unique year and plot the Adjusted Price for that year
for ax, year in zip(axes, years):
    # Filter the data for the current year
    yearly_data = data[data['Date'].dt.year == year]
    
    # Plot Adjusted Price over time for that year
    yearly_data.plot(x='Date', y='Adjusted Price', ax=ax, legend=False)
    
    # Set title and labels
    ax.set_title(f"Year: {year}")
    ax.set_xlabel('Date')
    ax.set_ylabel('Adjusted Price')

# Adjust layout to prevent overlap
plt.tight_layout()
plt.show()


}
