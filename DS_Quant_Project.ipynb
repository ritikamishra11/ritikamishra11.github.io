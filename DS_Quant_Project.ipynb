~{

2	2	
~  "nbformat": 4,
3	3	
~  "nbformat_minor": 0,
4	4	
~  "metadata": {
5	5	
~    "colab": {
6	6	
~      "provenance": []
7	7	
~    },
8	8	
~    "kernelspec": {
9	9	
~      "name": "python3",
10	10	
~      "display_name": "Python 3"
11	11	
~    },
12	12	
~    "language_info": {
13	13	
~      "name": "python"
14	14	
~    }
15	15	
~  },
16	16	
~  "cells": [
17	17	
~    {
18	18	
~      "cell_type": "markdown",
19	19	
~      "source": [
20	20	
~        "In this tutorial we will investigate the Monte Carlo simulation method for use in valuing financial derivatives.\n",
21	21	
~        "\n",
22	22	
~        "Pre-condition: Valuation of Financial Derivatives through Monte Carlo Simulations is only possible by using the Financial Mathematics of Risk-Neutral Pricing and simulating risk-neutral asset paths.\n",
23	23	
~        "\n",
24	24	
~        "![微信图片_20241013154550.png](data:image/png;base64,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)\n",
25	25	
~        "\n",
26	26	
~        "Note: This is the Risk-neutral Expectation Pricing Formula in Continuous Time\n",
27	27	
~        "The risk-neutral pricing methodology tells us that:\n",
28	28	
~        "\n",
29	29	
~        "value of an option = risk-neutral expectation of its discounted payoff"
30	30	
~      ],
31	31	
~      "metadata": {
32	32	
~        "id": "YXWAJpmlmrVE"
33	33	
~      }
34	34	
~    },
35	35	
~    {
36	36	
~      "cell_type": "code",
37	37	
~      "execution_count": null,
38	38	
~      "metadata": {
39	39	
~        "colab": {
40	40	
~          "base_uri": "https://localhost:8080/",
41	41	
~          "height": 76
42	42	
~        },
43	43	
~        "outputId": "db34b050-6a7d-4656-f792-f297720f51b0",
44	44	
~        "id": "VPT6yOO0sAk3"
45	45	
~      },
46	46	
~      "outputs": [
47	47	
~        {
48	48	
~          "output_type": "display_data",
49	49	
~          "data": {
50	50	
~            "text/plain": [
51	51	
~              "<IPython.core.display.HTML object>"
52	52	
~            ],
53	53	
~            "text/html": [
54	54	
~              "\n",
55	55	
~              "     <input type=\"file\" id=\"files-17a95d41-2b56-41d0-91e4-9bb1ec694ac2\" name=\"files[]\" multiple disabled\n",
56	56	
~              "        style=\"border:none\" />\n",
57	57	
~              "     <output id=\"result-17a95d41-2b56-41d0-91e4-9bb1ec694ac2\">\n",
58	58	
~              "      Upload widget is only available when the cell has been executed in the\n",
59	59	
~              "      current browser session. Please rerun this cell to enable.\n",
60	60	
~              "      </output>\n",
61	61	
~              "      <script>// Copyright 2017 Google LLC\n",
62	62	
~              "//\n",
63	63	
~              "// Licensed under the Apache License, Version 2.0 (the \"License\");\n",
64	64	
~              "// you may not use this file except in compliance with the License.\n",
65	65	
~              "// You may obtain a copy of the License at\n",
66	66	
~              "//\n",
67	67	
~              "//      http://www.apache.org/licenses/LICENSE-2.0\n",
68	68	
~              "//\n",
69	69	
~              "// Unless required by applicable law or agreed to in writing, software\n",
70	70	
~              "// distributed under the License is distributed on an \"AS IS\" BASIS,\n",
71	71	
~              "// WITHOUT WARRANTIES OR CONDITIONS OF ANY KIND, either express or implied.\n",
72	72	
~              "// See the License for the specific language governing permissions and\n",
73	73	
~              "// limitations under the License.\n",
74	74	
~              "\n",
75	75	
~              "/**\n",
76	76	
~              " * @fileoverview Helpers for google.colab Python module.\n",
77	77	
~              " */\n",
78	78	
~              "(function(scope) {\n",
79	79	
~              "function span(text, styleAttributes = {}) {\n",
80	80	
~              "  const element = document.createElement('span');\n",
81	81	
~              "  element.textContent = text;\n",
82	82	
~              "  for (const key of Object.keys(styleAttributes)) {\n",
83	83	
~              "    element.style[key] = styleAttributes[key];\n",
84	84	
~              "  }\n",
85	85	
~              "  return element;\n",
86	86	
~              "}\n",
87	87	
~              "\n",
88	88	
~              "// Max number of bytes which will be uploaded at a time.\n",
89	89	
~              "const MAX_PAYLOAD_SIZE = 100 * 1024;\n",
90	90	
~              "\n",
91	91	
~              "function _uploadFiles(inputId, outputId) {\n",
92	92	
~              "  const steps = uploadFilesStep(inputId, outputId);\n",
93	93	
~              "  const outputElement = document.getElementById(outputId);\n",
94	94	
~              "  // Cache steps on the outputElement to make it available for the next call\n",
95	95	
~              "  // to uploadFilesContinue from Python.\n",
96	96	
~              "  outputElement.steps = steps;\n",
97	97	
~              "\n",
98	98	
~              "  return _uploadFilesContinue(outputId);\n",
99	99	
~              "}\n",
100	100	
~              "\n",
101	101	
~              "// This is roughly an async generator (not supported in the browser yet),\n",
102	102	
~              "// where there are multiple asynchronous steps and the Python side is going\n",
103	103	
~              "// to poll for completion of each step.\n",
104	104	
~              "// This uses a Promise to block the python side on completion of each step,\n",
105	105	
~              "// then passes the result of the previous step as the input to the next step.\n",
106	106	
~              "function _uploadFilesContinue(outputId) {\n",
107	107	
~              "  const outputElement = document.getElementById(outputId);\n",
108	108	
~              "  const steps = outputElement.steps;\n",
109	109	
~              "\n",
110	110	
~              "  const next = steps.next(outputElement.lastPromiseValue);\n",
111	111	
~              "  return Promise.resolve(next.value.promise).then((value) => {\n",
112	112	
~              "    // Cache the last promise value to make it available to the next\n",
113	113	
~              "    // step of the generator.\n",
114	114	
~              "    outputElement.lastPromiseValue = value;\n",
115	115	
~              "    return next.value.response;\n",
116	116	
~              "  });\n",
117	117	
~              "}\n",
118	118	
~              "\n",
119	119	
~              "/**\n",
120	120	
~              " * Generator function which is called between each async step of the upload\n",
121	121	
~              " * process.\n",
122	122	
~              " * @param {string} inputId Element ID of the input file picker element.\n",
123	123	
~              " * @param {string} outputId Element ID of the output display.\n",
124	124	
~              " * @return {!Iterable<!Object>} Iterable of next steps.\n",
125	125	
~              " */\n",
126	126	
~              "function* uploadFilesStep(inputId, outputId) {\n",
127	127	
~              "  const inputElement = document.getElementById(inputId);\n",
128	128	
~              "  inputElement.disabled = false;\n",
129	129	
~              "\n",
130	130	
~              "  const outputElement = document.getElementById(outputId);\n",
131	131	
~              "  outputElement.innerHTML = '';\n",
132	132	
~              "\n",
133	133	
~              "  const pickedPromise = new Promise((resolve) => {\n",
134	134	
~              "    inputElement.addEventListener('change', (e) => {\n",
135	135	
~              "      resolve(e.target.files);\n",
136	136	
~              "    });\n",
137	137	
~              "  });\n",
138	138	
~              "\n",
139	139	
~              "  const cancel = document.createElement('button');\n",
140	140	
~              "  inputElement.parentElement.appendChild(cancel);\n",
141	141	
~              "  cancel.textContent = 'Cancel upload';\n",
142	142	
~              "  const cancelPromise = new Promise((resolve) => {\n",
143	143	
~              "    cancel.onclick = () => {\n",
144	144	
~              "      resolve(null);\n",
145	145	
~              "    };\n",
146	146	
~              "  });\n",
147	147	
~              "\n",
148	148	
~              "  // Wait for the user to pick the files.\n",
149	149	
~              "  const files = yield {\n",
150	150	
~              "    promise: Promise.race([pickedPromise, cancelPromise]),\n",
151	151	
~              "    response: {\n",
152	152	
~              "      action: 'starting',\n",
153	153	
~              "    }\n",
154	154	
~              "  };\n",
155	155	
~              "\n",
156	156	
~              "  cancel.remove();\n",
157	157	
~              "\n",
158	158	
~              "  // Disable the input element since further picks are not allowed.\n",
159	159	
~              "  inputElement.disabled = true;\n",
160	160	
~              "\n",
161	161	
~              "  if (!files) {\n",
162	162	
~              "    return {\n",
163	163	
~              "      response: {\n",
164	164	
~              "        action: 'complete',\n",
165	165	
~              "      }\n",
166	166	
~              "    };\n",
167	167	
~              "  }\n",
168	168	
~              "\n",
169	169	
~              "  for (const file of files) {\n",
170	170	
~              "    const li = document.createElement('li');\n",
171	171	
~              "    li.append(span(file.name, {fontWeight: 'bold'}));\n",
172	172	
~              "    li.append(span(\n",
173	173	
~              "        `(${file.type || 'n/a'}) - ${file.size} bytes, ` +\n",
174	174	
~              "        `last modified: ${\n",
175	175	
~              "            file.lastModifiedDate ? file.lastModifiedDate.toLocaleDateString() :\n",
176	176	
~              "                                    'n/a'} - `));\n",
177	177	
~              "    const percent = span('0% done');\n",
178	178	
~              "    li.appendChild(percent);\n",
179	179	
~              "\n",
180	180	
~              "    outputElement.appendChild(li);\n",
181	181	
~              "\n",
182	182	
~              "    const fileDataPromise = new Promise((resolve) => {\n",
183	183	
~              "      const reader = new FileReader();\n",
184	184	
~              "      reader.onload = (e) => {\n",
185	185	
~              "        resolve(e.target.result);\n",
186	186	
~              "      };\n",
187	187	
~              "      reader.readAsArrayBuffer(file);\n",
188	188	
~              "    });\n",
189	189	
~              "    // Wait for the data to be ready.\n",
190	190	
~              "    let fileData = yield {\n",
191	191	
~              "      promise: fileDataPromise,\n",
192	192	
~              "      response: {\n",
193	193	
~              "        action: 'continue',\n",
194	194	
~              "      }\n",
195	195	
~              "    };\n",
196	196	
~              "\n",
197	197	
~              "    // Use a chunked sending to avoid message size limits. See b/62115660.\n",
198	198	
~              "    let position = 0;\n",
199	199	
~              "    do {\n",
200	200	
~              "      const length = Math.min(fileData.byteLength - position, MAX_PAYLOAD_SIZE);\n",
201	201	
~              "      const chunk = new Uint8Array(fileData, position, length);\n",
202	202	
~              "      position += length;\n",
203	203	
~              "\n",
204	204	
~              "      const base64 = btoa(String.fromCharCode.apply(null, chunk));\n",
205	205	
~              "      yield {\n",
206	206	
~              "        response: {\n",
207	207	
~              "          action: 'append',\n",
208	208	
~              "          file: file.name,\n",
209	209	
~              "          data: base64,\n",
210	210	
~              "        },\n",
211	211	
~              "      };\n",
212	212	
~              "\n",
213	213	
~              "      let percentDone = fileData.byteLength === 0 ?\n",
214	214	
~              "          100 :\n",
215	215	
~              "          Math.round((position / fileData.byteLength) * 100);\n",
216	216	
~              "      percent.textContent = `${percentDone}% done`;\n",
217	217	
~              "\n",
218	218	
~              "    } while (position < fileData.byteLength);\n",
219	219	
~              "  }\n",
220	220	
~              "\n",
221	221	
~              "  // All done.\n",
222	222	
~              "  yield {\n",
223	223	
~              "    response: {\n",
224	224	
~              "      action: 'complete',\n",
225	225	
~              "    }\n",
226	226	
~              "  };\n",
227	227	
~              "}\n",
228	228	
~              "\n",
229	229	
~              "scope.google = scope.google || {};\n",
230	230	
~              "scope.google.colab = scope.google.colab || {};\n",
231	231	
~              "scope.google.colab._files = {\n",
232	232	
~              "  _uploadFiles,\n",
233	233	
~              "  _uploadFilesContinue,\n",
234	234	
~              "};\n",
235	235	
~              "})(self);\n",
236	236	
~              "</script> "
237	237	
~            ]
238	238	
~          },
239	239	
~          "metadata": {}
240	240	
~        },
241	241	
~        {
242	242	
~          "output_type": "stream",
243	243	
~          "name": "stdout",
244	244	
~          "text": [
245	245	
~            "Saving AAPL.csv to AAPL (3).csv\n"
246	246	
~          ]
247	247	
~        }
248	248	
~      ],
249	249	
~      "source": [
250	250	
~        "from google.colab import files\n",
251	251	
~        "uploaded = files.upload()"
252	252	
~      ]
253	253	
~    },
254	254	
~    {
255	255	
~      "cell_type": "code",
256	256	
~      "source": [
257	257	
~        "import pandas as pd\n",
258	258	
~        "\n",
259	259	
~        "# Load the uploaded CSV file\n",
260	260	
~        "file_path = 'AAPL.csv'\n",
261	261	
~        "data = pd.read_csv(file_path)\n",
262	262	
~        "print(data.columns)\n",
263	263	
~        "\n",
264	264	
~        "# Assuming the 'Adjusted Price' column exists, calculate the daily return\n",
265	265	
~        "data['Daily Return'] = data['Adjusted Price'].pct_change()\n",
266	266	
~        "\n",
267	267	
~        "# Drop NaN values from 'Daily Return'\n",
268	268	
~        "data_cleaned = data.dropna(subset=['Daily Return'])\n",
269	269	
~        "\n",
270	270	
~        "# Now 'data_cleaned' is ready for further analysis\n",
271	271	
~        "# Calculate the annualized mean return\n",
272	272	
~        "mean_daily_return = data_cleaned['Daily Return'].mean()\n",
273	273	
~        "annualized_return = mean_daily_return * 252  # 252 trading days in a year\n",
274	274	
~        "\n",
275	275	
~        "# Calculate the annualized volatility (standard deviation)\n",
276	276	
~        "std_daily_return = data_cleaned['Daily Return'].std()\n",
277	277	
~        "annualized_volatility = std_daily_return * np.sqrt(252)\n",
278	278	
~        "\n",
279	279	
~        "print(f\"Annualized Mean Return: {annualized_return}\")\n",
280	280	
~        "print(f\"Annualized Volatility: {annualized_volatility}\")"
281	281	
~      ],
282	282	
~      "metadata": {
283	283	
~        "colab": {
284	284	
~          "base_uri": "https://localhost:8080/"
285	285	
~        },
286	286	
~        "id": "VPwK8fgP3nfI",
287	287	
~        "outputId": "a2609f9b-62a6-4103-b427-1f9589778fcd"
288	288	
~      },
289	289	
~      "execution_count": null,
290	290	
~      "outputs": [
291	291	
~        {
292	292	
~          "output_type": "stream",
293	293	
~          "name": "stdout",
294	294	
~          "text": [
295	295	
~            "Index(['Date', 'Adjusted Price', 'Open', 'Low', 'High', 'Volume'], dtype='object')\n",
296	296	
~            "Annualized Mean Return: 0.2778283503745821\n",
297	297	
~            "Annualized Volatility: 0.42291299754761136\n"
298	298	
~          ]
299	299	
~        }
300	300	
~      ]
301	301	
~    },
302	302	
~    {
303	303	
~      "cell_type": "markdown",
304	304	
~      "source": [
305	305	
~        "Here we have constant interest rate so the discount factor is **exp(-rT)**, and the stock dynamics are modelled with **Geometric Brownian Motion (GBM)**.\n",
306	306	
~        "\n",
307	307	
~        "![image.png](data:image/png;base64,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)\n"
308	308	
~      ],
309	309	
~      "metadata": {
310	310	
~        "id": "1tCG1ODIsPPa"
311	311	
~      }
312	312	
~    },
313	313	
~    {
314	314	
~      "cell_type": "code",
315	315	
~      "source": [
316	316	
~        "import numpy as np\n",
317	317	
~        "import matplotlib.pyplot as plt\n",
318	318	
~        "\n",
319	319	
~        "# Parameters\n",
320	320	
~        "S0 = 227.55  # Latest Apple stock price\n",
321	321	
~        "K = 230  # Strike price\n",
322	322	
~        "T = 1  # Time to maturity\n",
323	323	
~        "r = 0.01  # Risk-free interest rate\n",
324	324	
~        "vol = annualized_volatility\n",
325	325	
~        "N = 100  # Number of time steps\n",
326	326	
~        "M = 10000  # Number of simulations (Monte Carlo paths)\n",
327	327	
~        "\n",
328	328	
~        "# Monte Carlo simulation\n",
329	329	
~        "dt = T / N\n",
330	330	
~        "discount_factor = np.exp(-r * T)  # Discount factor to bring future cash flows to present value\n",
331	331	
~        "\n",
332	332	
~        "# Initialize stock price paths\n",
333	333	
~        "ST = np.zeros((M, N + 1))\n",
334	334	
~        "ST[:, 0] = S0\n",
335	335	
~        "\n",
336	336	
~        "# Simulate stock price paths\n",
337	337	
~        "for t in range(1, N + 1):\n",
338	338	
~        "    Z = np.random.standard_normal(M)  # Standard normal random variables\n",
339	339	
~        "    ST[:, t] = ST[:, t - 1] * np.exp((r - 0.5 * vol**2) * dt + vol * np.sqrt(dt) * Z)\n",
340	340	
~        "\n",
341	341	
~        "# Calculate the final payoff (European Call Option payoff)\n",
342	342	
~        "payoff = np.maximum(ST[:, -1] - K, 0)  # Payoff at maturity (if S > K, payoff = S - K)\n",
343	343	
~        "\n",
344	344	
~        "# Calculate the option price (present value of the expected payoff)\n",
345	345	
~        "C0 = discount_factor * np.mean(payoff)  # Discount the expected payoff to the present value\n",
346	346	
~        "\n",
347	347	
~        "print(f\"European Call Option price: ${C0:.2f}\")\n",
348	348	
~        "\n",
349	349	
~        "# Visualize all stock price paths\n",
350	350	
~        "plt.figure(figsize=(10,6))\n",
351	351	
~        "for i in range(M):  # Plot all paths for visualization\n",
352	352	
~        "    plt.plot(ST[i], lw=0.5)  # Using smaller line width for better clarity with large number of paths\n",
353	353	
~        "plt.title('Simulated Stock Price Paths (All Paths)')\n",
354	354	
~        "plt.xlabel('Time Steps')\n",
355	355	
~        "plt.ylabel('Stock Price')\n",
356	356	
~        "plt.show()\n",
357	357	
~        "\n",
358	358	
~        "# Visualize payoff distribution\n",
359	359	
~        "plt.figure(figsize=(10,6))\n",
360	360	
~        "plt.hist(payoff, bins=50, alpha=0.75, color='blue', edgecolor='black')\n",
361	361	
~        "plt.title('Distribution of European Call Option Payoff at Maturity')\n",
362	362	
~        "plt.xlabel('Payoff')\n",
363	363	
~        "plt.ylabel('Frequency')\n",
364	364	
~        "plt.axvline(C0, color='r', linestyle='--', label=f'Option Price = ${C0:.2f}')\n",
365	365	
~        "plt.legend()\n",
366	366	
~        "plt.show()\n",
367	367	
~        "\n",
368	368	
~        "# # American Option/Stochastic Volatility Models/Backtesting can be done for futher researches\n",
369	369	
~        "# Build a portfolio and calculate backtested returns/ use mean-variance optimization"
370	370	
~      ],
371	371	
~      "metadata": {
372	372	
~        "colab": {
373	373	
~          "base_uri": "https://localhost:8080/",
374	374	
~          "height": 1000
375	375	
~        },
376	376	
~        "id": "ku6wt32GAITJ",
377	377	
~        "outputId": "544208a5-b6c1-498a-f373-407d56c72907",
378	378	
~        "collapsed": true
379	379	
~      },
380	380	
~      "execution_count": null,
381	381	
~      "outputs": [
382	382	
~        {
383	383	
~          "output_type": "stream",
384	384	
~          "name": "stdout",
385	385	
~          "text": [
386	386	
~            "European Call Option price: $37.73\n"
387	387	
~          ]
388	388	
~        },
389	389	
~        {
390	390	
~          "output_type": "display_data",
391	391	
~          "data": {
392	392	
~            "text/plain": [
393	393	
~              "<Figure size 1000x600 with 1 Axes>"
394	394	
~            ],

@@ -411,11 +411,11 @@
411	411	
    {
412	412	
      "cell_type": "markdown",
413	413	
      "source": [
414		-
        "Collaboration plan："
414	+
        "Collaboration plan：Our collaboration plan is to meet twice a week to set goals and divide the work. So far we have been meeting once in the beginning of the week to split up the responsibilities we are each going to do, and then meeting in person later in the week to work through challenges together. We are using jupiter notebooks, r-studio, and vs code to work on this project. "
415	415	
      ],
416	416	
      "metadata": {
417	417	
        "id": "gjjofp0gpaqR"
418	418	
      }
419	419	
    }
420	420	
  ]
421		-
}
421	+
}
